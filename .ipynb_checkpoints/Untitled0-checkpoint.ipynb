{
 "metadata": {
  "name": "",
  "signature": "sha256:360aaf2daaea5e28956b85c353ab03b0de8846f817fea806143e7a8986c23789"
 },
 "nbformat": 3,
 "nbformat_minor": 0,
 "worksheets": [
  {
   "cells": [
    {
     "cell_type": "code",
     "collapsed": false,
     "input": [
      "import sys\n",
      "import mechanize\n",
      "import pandas as pd\n",
      "from bs4 import BeautifulSoup  \n",
      "\n",
      "class StockCrawler(object):\n",
      "\t\n",
      "\tdef __init__(self):\n",
      "\t\tself.l =[]\n",
      "\t\tself.unformat_l =[]\n",
      "\t\tself.year = '2014'\n",
      "\t\tself.month = '08'\n",
      "\n",
      "\tdef format(self):\n",
      "\t\ttemp = range(len(self.unformat_l))\n",
      "\t\tfor x in temp[1::2]:\n",
      "\t\t\tself.l.append(self.unformat_l[x])\n",
      "\n",
      "\tdef crawler(self,year,month):\n",
      "\t\tbr = mechanize.Browser()\n",
      "\t\tres = br.open(\"http://www.twse.com.tw/ch/trading/exchange/STOCK_DAY/genpage/Report\"+str(year)+str(month)+\"/\"+str(year)+str(month)+\"_F3_1_8_0050.php?STK_NO=0050&myear=\"+str(year)+\"&mmon=\"+str(month))\n",
      "\t\tsoup = BeautifulSoup(res)\n",
      "\t\tres = soup.find(\"table\", class_=\"board_trad\")\n",
      "\t\tfor tag in res.find_all(class_=\"basic2\"):\n",
      "\t\t\tl=[]\n",
      "\t\t\tfor tag2 in tag.find_all('td'):\n",
      "\t\t\t\tl.append(tag2.string)\n",
      "\t\t\tself.unformat_l.append(l)\n",
      "\n",
      "\tdef storage(self):\n",
      "\t\tdf = pd.DataFrame(self.l,columns=['Date','Trade Volume','Trade Value','Opening Price','Highest Price','Lowest Price','Closing Price','Change','Transaction'])\n",
      "\t\tdf = df.set_index('Date')\n",
      "\t\twith open('data.csv', 'w') as f:\n",
      "\t\t    df.to_csv(f)\n",
      "\n",
      "\tdef run(self):\n",
      "\t\tself.crawler( self.year,self.month )\n",
      "\t\tself.format()\n",
      "# \t\tself.storage()\n",
      "\n",
      "def main() :\n",
      "\ttry:\n",
      "\t    stockCrawler = StockCrawler()\n",
      "\t    stockCrawler.run()\n",
      "\t    print('creat data.csv succuess')\n",
      "\texcept:\n",
      "\t\tprint('''please format year and month  e.x 2014 07 if don't work the website have no data''')\n",
      "\t\t\n",
      "if __name__ == '__main__' :\n",
      "    main()"
     ],
     "language": "python",
     "metadata": {},
     "outputs": [
      {
       "output_type": "stream",
       "stream": "stdout",
       "text": [
        "creat data.csv succuess\n"
       ]
      }
     ],
     "prompt_number": 5
    },
    {
     "cell_type": "code",
     "collapsed": false,
     "input": [],
     "language": "python",
     "metadata": {},
     "outputs": [
      {
       "ename": "NameError",
       "evalue": "name 'df' is not defined",
       "output_type": "pyerr",
       "traceback": [
        "\u001b[0;31m---------------------------------------------------------------------------\u001b[0m\n\u001b[0;31mNameError\u001b[0m                                 Traceback (most recent call last)",
        "\u001b[0;32m<ipython-input-7-7ed0097d7e9e>\u001b[0m in \u001b[0;36m<module>\u001b[0;34m()\u001b[0m\n\u001b[0;32m----> 1\u001b[0;31m \u001b[0mdf\u001b[0m\u001b[0;34m\u001b[0m\u001b[0m\n\u001b[0m",
        "\u001b[0;31mNameError\u001b[0m: name 'df' is not defined"
       ]
      }
     ],
     "prompt_number": 7
    },
    {
     "cell_type": "code",
     "collapsed": false,
     "input": [],
     "language": "python",
     "metadata": {},
     "outputs": []
    }
   ],
   "metadata": {}
  }
 ]
}